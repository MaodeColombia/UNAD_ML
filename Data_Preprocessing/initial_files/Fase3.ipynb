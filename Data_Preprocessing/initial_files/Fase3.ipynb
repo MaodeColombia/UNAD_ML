{
 "cells": [
  {
   "cell_type": "markdown",
   "metadata": {
    "id": "TWo7n_hXJWvj"
   },
   "source": [
    "# FASE 3 - MACHINE LEARNING\n",
    "\n",
    "\n",
    "## Preparación de los datos\n",
    "\n",
    "### Tipos de datos: numéricos, categóricos, texto, imágenes, etc.\n",
    "\n",
    "Los datos pueden ser de muchos tipos diferentes, entre ellos:\n",
    "\n",
    "- **Datos numéricos**: mediciones de temperatura, tiempo, altura, etc.\n",
    "- **Datos categóricos** especie de un animal, la categoría de un producto, etc.\n",
    "- **Texto**: comentarios de usuarios en una red social, las reseñas de productos en una tienda en línea, etc.\n",
    "- **Imágenes**: fotografías, escaneos de documentos, etc.\n",
    "\n",
    "### Limpieza y preprocesamiento de datos\n",
    "\n",
    "Antes de utilizar los datos para entrenar un modelo, es necesario realizar una serie de pasos para limpiar y preprocesar los datos:\n",
    "\n",
    "- **Limpieza de datos**: identificar y eliminar valores atípicos, datos faltantes, etc.\n",
    "- **Transformación de datos**: convertir los datos a un formato adecuado para el modelo. Por ejemplo, convertir datos categóricos a numéricos, normalizar los datos numéricos, etc.\n",
    "- **Selección de características**: seleccionar las características más relevantes para el modelo y eliminar aquellas que no aportan información útil.\n",
    "\n",
    "### Separación de datos en entrenamiento y prueba\n",
    "\n",
    "Para evaluar el rendimiento del modelo, es necesario separar los datos en un conjunto de entrenamiento y un conjunto de prueba.\n"
   ]
  },
  {
   "cell_type": "markdown",
   "metadata": {
    "id": "_F2FTIdMJ8Eb"
   },
   "source": [
    "# Ejemplo de código para la limpieza de datos utilizando Pandas\n",
    "\n",
    "Este código realiza varias tareas comunes de limpieza de datos, como eliminar duplicados, eliminar filas con valores faltantes, convertir tipos de datos, eliminar columnas innecesarias y reemplazar valores. También muestra cómo filtrar filas basadas en una condición y guardar los datos limpios en un archivo CSV.\n",
    "\n",
    "\n"
   ]
  },
  {
   "cell_type": "code",
   "execution_count": 1,
   "metadata": {
    "id": "e55mgKkuW1y6"
   },
   "outputs": [],
   "source": [
    "import pandas as pd\n",
    "import numpy as np\n",
    "import matplotlib.pyplot as plt\n",
    "import mglearn\n"
   ]
  },
  {
   "cell_type": "code",
   "execution_count": 4,
   "metadata": {
    "colab": {
     "base_uri": "https://localhost:8080/",
     "height": 402
    },
    "id": "nYJMTGE8J3dV",
    "outputId": "35adbe30-23ae-485e-a132-911fb72f7a0f"
   },
   "outputs": [
    {
     "name": "stdout",
     "output_type": "stream",
     "text": [
      "<class 'pandas.core.frame.DataFrame'>\n",
      "RangeIndex: 14080 entries, 0 to 14079\n",
      "Data columns (total 12 columns):\n",
      " #   Column              Non-Null Count  Dtype \n",
      "---  ------              --------------  ----- \n",
      " 0   PERIODO             14080 non-null  object\n",
      " 1   AÑO                 14080 non-null  int64 \n",
      " 2   SEXO                14080 non-null  object\n",
      " 3   EDAD                14080 non-null  int64 \n",
      " 4   TIPO_EDAD           14080 non-null  object\n",
      " 5   PROCEDENCIA         14080 non-null  object\n",
      " 6   DEPARTAMENTO        14080 non-null  object\n",
      " 7   FECHA_ATENCION      14080 non-null  object\n",
      " 8   DIAGNOSTICO         14080 non-null  object\n",
      " 9   NOMBRE_DIAGNOSTICO  14080 non-null  object\n",
      " 10  REGIMEN             14080 non-null  object\n",
      " 11  EAPB                14080 non-null  object\n",
      "dtypes: int64(2), object(10)\n",
      "memory usage: 1.3+ MB\n"
     ]
    },
    {
     "data": {
      "text/html": [
       "<div>\n",
       "<style scoped>\n",
       "    .dataframe tbody tr th:only-of-type {\n",
       "        vertical-align: middle;\n",
       "    }\n",
       "\n",
       "    .dataframe tbody tr th {\n",
       "        vertical-align: top;\n",
       "    }\n",
       "\n",
       "    .dataframe thead th {\n",
       "        text-align: right;\n",
       "    }\n",
       "</style>\n",
       "<table border=\"1\" class=\"dataframe\">\n",
       "  <thead>\n",
       "    <tr style=\"text-align: right;\">\n",
       "      <th></th>\n",
       "      <th>PERIODO</th>\n",
       "      <th>AÑO</th>\n",
       "      <th>SEXO</th>\n",
       "      <th>EDAD</th>\n",
       "      <th>TIPO_EDAD</th>\n",
       "      <th>PROCEDENCIA</th>\n",
       "      <th>DEPARTAMENTO</th>\n",
       "      <th>FECHA_ATENCION</th>\n",
       "      <th>DIAGNOSTICO</th>\n",
       "      <th>NOMBRE_DIAGNOSTICO</th>\n",
       "      <th>REGIMEN</th>\n",
       "      <th>EAPB</th>\n",
       "    </tr>\n",
       "  </thead>\n",
       "  <tbody>\n",
       "    <tr>\n",
       "      <th>276</th>\n",
       "      <td>I TRIMESTRE</td>\n",
       "      <td>2023</td>\n",
       "      <td>M</td>\n",
       "      <td>17</td>\n",
       "      <td>AÑOS</td>\n",
       "      <td>NEIVA</td>\n",
       "      <td>HUILA</td>\n",
       "      <td>03/18/2023</td>\n",
       "      <td>F120</td>\n",
       "      <td>TRASTORNOS MENTALES Y DEL COMPORTAMIENTO DEBID...</td>\n",
       "      <td>SUBSIDIADO</td>\n",
       "      <td>NUEVA EPS</td>\n",
       "    </tr>\n",
       "    <tr>\n",
       "      <th>879</th>\n",
       "      <td>I TRIMESTRE</td>\n",
       "      <td>2023</td>\n",
       "      <td>M</td>\n",
       "      <td>1</td>\n",
       "      <td>AÑOS</td>\n",
       "      <td>SANTIAGO</td>\n",
       "      <td>PUTUMAYO</td>\n",
       "      <td>01/18/2023</td>\n",
       "      <td>J00X</td>\n",
       "      <td>RINOFARINGITIS AGUDA (RESFRIADO COMUN)</td>\n",
       "      <td>SUBSIDIADO</td>\n",
       "      <td>EMSSANAR</td>\n",
       "    </tr>\n",
       "    <tr>\n",
       "      <th>1302</th>\n",
       "      <td>I TRIMESTRE</td>\n",
       "      <td>2023</td>\n",
       "      <td>M</td>\n",
       "      <td>3</td>\n",
       "      <td>MESES</td>\n",
       "      <td>SIBUNDOY</td>\n",
       "      <td>PUTUMAYO</td>\n",
       "      <td>03/11/2023</td>\n",
       "      <td>J038</td>\n",
       "      <td>AMIGDALITIS AGUDA DEBIDA A OTROS MICROORGANISM...</td>\n",
       "      <td>SUBSIDIADO</td>\n",
       "      <td>MALLAMAS</td>\n",
       "    </tr>\n",
       "    <tr>\n",
       "      <th>1694</th>\n",
       "      <td>I TRIMESTRE</td>\n",
       "      <td>2023</td>\n",
       "      <td>F</td>\n",
       "      <td>11</td>\n",
       "      <td>AÑOS</td>\n",
       "      <td>SIBUNDOY</td>\n",
       "      <td>PUTUMAYO</td>\n",
       "      <td>03/30/2023</td>\n",
       "      <td>J00X</td>\n",
       "      <td>RINOFARINGITIS AGUDA (RESFRIADO COMUN)</td>\n",
       "      <td>SUBSIDIADO</td>\n",
       "      <td>EMSSANAR</td>\n",
       "    </tr>\n",
       "    <tr>\n",
       "      <th>3982</th>\n",
       "      <td>II TRIMESTRE</td>\n",
       "      <td>2023</td>\n",
       "      <td>F</td>\n",
       "      <td>41</td>\n",
       "      <td>AÑOS</td>\n",
       "      <td>SIBUNDOY</td>\n",
       "      <td>PUTUMAYO</td>\n",
       "      <td>04/21/2023</td>\n",
       "      <td>R104</td>\n",
       "      <td>OTROS DOLORES ABDOMINALES Y LOS NO ESPECIFICADOS</td>\n",
       "      <td>CONTRIBUTIVO</td>\n",
       "      <td>NUEVA EPS</td>\n",
       "    </tr>\n",
       "    <tr>\n",
       "      <th>...</th>\n",
       "      <td>...</td>\n",
       "      <td>...</td>\n",
       "      <td>...</td>\n",
       "      <td>...</td>\n",
       "      <td>...</td>\n",
       "      <td>...</td>\n",
       "      <td>...</td>\n",
       "      <td>...</td>\n",
       "      <td>...</td>\n",
       "      <td>...</td>\n",
       "      <td>...</td>\n",
       "      <td>...</td>\n",
       "    </tr>\n",
       "    <tr>\n",
       "      <th>13844</th>\n",
       "      <td>IV TRIMESTRE</td>\n",
       "      <td>2023</td>\n",
       "      <td>M</td>\n",
       "      <td>44</td>\n",
       "      <td>AÑOS</td>\n",
       "      <td>SIBUNDOY</td>\n",
       "      <td>PUTUMAYO</td>\n",
       "      <td>10/01/1979</td>\n",
       "      <td>G409</td>\n",
       "      <td>EPILEPSIA, TIPO NO ESPECIFICADO</td>\n",
       "      <td>SUBSIDIADO</td>\n",
       "      <td>EMSSANAR</td>\n",
       "    </tr>\n",
       "    <tr>\n",
       "      <th>13879</th>\n",
       "      <td>IV TRIMESTRE</td>\n",
       "      <td>2023</td>\n",
       "      <td>M</td>\n",
       "      <td>61</td>\n",
       "      <td>AÑOS</td>\n",
       "      <td>COLÓN</td>\n",
       "      <td>PUTUMAYO</td>\n",
       "      <td>04/20/1962</td>\n",
       "      <td>R51X</td>\n",
       "      <td>CEFALEA</td>\n",
       "      <td>CONTRIBUTIVO</td>\n",
       "      <td>NUEVA EPS</td>\n",
       "    </tr>\n",
       "    <tr>\n",
       "      <th>13884</th>\n",
       "      <td>IV TRIMESTRE</td>\n",
       "      <td>2023</td>\n",
       "      <td>M</td>\n",
       "      <td>63</td>\n",
       "      <td>AÑOS</td>\n",
       "      <td>COLÓN</td>\n",
       "      <td>PUTUMAYO</td>\n",
       "      <td>11/05/1959</td>\n",
       "      <td>R104</td>\n",
       "      <td>OTROS DOLORES ABDOMINALES Y LOS NO ESPECIFICADOS</td>\n",
       "      <td>CONTRIBUTIVO</td>\n",
       "      <td>NUEVA EPS</td>\n",
       "    </tr>\n",
       "    <tr>\n",
       "      <th>13914</th>\n",
       "      <td>IV TRIMESTRE</td>\n",
       "      <td>2023</td>\n",
       "      <td>M</td>\n",
       "      <td>58</td>\n",
       "      <td>AÑOS</td>\n",
       "      <td>SIBUNDOY</td>\n",
       "      <td>PUTUMAYO</td>\n",
       "      <td>07/16/1965</td>\n",
       "      <td>T159</td>\n",
       "      <td>CUERPO EXTRAÑO EN PARTE EXTERNA DEL OJO, SITIO...</td>\n",
       "      <td>CONTRIBUTIVO</td>\n",
       "      <td>AIC</td>\n",
       "    </tr>\n",
       "    <tr>\n",
       "      <th>13924</th>\n",
       "      <td>IV TRIMESTRE</td>\n",
       "      <td>2023</td>\n",
       "      <td>M</td>\n",
       "      <td>57</td>\n",
       "      <td>AÑOS</td>\n",
       "      <td>SIBUNDOY</td>\n",
       "      <td>PUTUMAYO</td>\n",
       "      <td>11/13/1966</td>\n",
       "      <td>I10X</td>\n",
       "      <td>HIPERTENSION ESENCIAL (PRIMARIA)</td>\n",
       "      <td>SUBSIDIADO</td>\n",
       "      <td>AIC</td>\n",
       "    </tr>\n",
       "  </tbody>\n",
       "</table>\n",
       "<p>107 rows × 12 columns</p>\n",
       "</div>"
      ],
      "text/plain": [
       "            PERIODO   AÑO SEXO  EDAD TIPO_EDAD PROCEDENCIA DEPARTAMENTO  \\\n",
       "276     I TRIMESTRE  2023    M    17      AÑOS       NEIVA        HUILA   \n",
       "879     I TRIMESTRE  2023    M     1      AÑOS    SANTIAGO     PUTUMAYO   \n",
       "1302    I TRIMESTRE  2023    M     3     MESES    SIBUNDOY     PUTUMAYO   \n",
       "1694    I TRIMESTRE  2023    F    11      AÑOS    SIBUNDOY     PUTUMAYO   \n",
       "3982   II TRIMESTRE  2023    F    41      AÑOS    SIBUNDOY     PUTUMAYO   \n",
       "...             ...   ...  ...   ...       ...         ...          ...   \n",
       "13844  IV TRIMESTRE  2023    M    44      AÑOS    SIBUNDOY     PUTUMAYO   \n",
       "13879  IV TRIMESTRE  2023    M    61      AÑOS       COLÓN     PUTUMAYO   \n",
       "13884  IV TRIMESTRE  2023    M    63      AÑOS       COLÓN     PUTUMAYO   \n",
       "13914  IV TRIMESTRE  2023    M    58      AÑOS    SIBUNDOY     PUTUMAYO   \n",
       "13924  IV TRIMESTRE  2023    M    57      AÑOS    SIBUNDOY     PUTUMAYO   \n",
       "\n",
       "      FECHA_ATENCION DIAGNOSTICO  \\\n",
       "276       03/18/2023        F120   \n",
       "879       01/18/2023        J00X   \n",
       "1302      03/11/2023        J038   \n",
       "1694      03/30/2023        J00X   \n",
       "3982      04/21/2023        R104   \n",
       "...              ...         ...   \n",
       "13844     10/01/1979        G409   \n",
       "13879     04/20/1962        R51X   \n",
       "13884     11/05/1959        R104   \n",
       "13914     07/16/1965        T159   \n",
       "13924     11/13/1966        I10X   \n",
       "\n",
       "                                      NOMBRE_DIAGNOSTICO       REGIMEN  \\\n",
       "276    TRASTORNOS MENTALES Y DEL COMPORTAMIENTO DEBID...    SUBSIDIADO   \n",
       "879               RINOFARINGITIS AGUDA (RESFRIADO COMUN)    SUBSIDIADO   \n",
       "1302   AMIGDALITIS AGUDA DEBIDA A OTROS MICROORGANISM...    SUBSIDIADO   \n",
       "1694              RINOFARINGITIS AGUDA (RESFRIADO COMUN)    SUBSIDIADO   \n",
       "3982    OTROS DOLORES ABDOMINALES Y LOS NO ESPECIFICADOS  CONTRIBUTIVO   \n",
       "...                                                  ...           ...   \n",
       "13844                    EPILEPSIA, TIPO NO ESPECIFICADO    SUBSIDIADO   \n",
       "13879                                            CEFALEA  CONTRIBUTIVO   \n",
       "13884   OTROS DOLORES ABDOMINALES Y LOS NO ESPECIFICADOS  CONTRIBUTIVO   \n",
       "13914  CUERPO EXTRAÑO EN PARTE EXTERNA DEL OJO, SITIO...  CONTRIBUTIVO   \n",
       "13924                   HIPERTENSION ESENCIAL (PRIMARIA)    SUBSIDIADO   \n",
       "\n",
       "            EAPB  \n",
       "276    NUEVA EPS  \n",
       "879     EMSSANAR  \n",
       "1302    MALLAMAS  \n",
       "1694    EMSSANAR  \n",
       "3982   NUEVA EPS  \n",
       "...          ...  \n",
       "13844   EMSSANAR  \n",
       "13879  NUEVA EPS  \n",
       "13884  NUEVA EPS  \n",
       "13914        AIC  \n",
       "13924        AIC  \n",
       "\n",
       "[107 rows x 12 columns]"
      ]
     },
     "metadata": {},
     "output_type": "display_data"
    }
   ],
   "source": [
    "# Carga los datos en un dataframe de Pandas\n",
    "df = pd.read_csv('MORBILIDAD_EN_EL_SERVICIO_DE_URGENCIAS_20240717.csv')\n",
    "\n",
    "#Contenido de la base de datos\n",
    "df.info()\n",
    "df.drop_duplicates\n",
    "\n",
    "\n",
    "#Elimina columnas donde hay al menos un valor faltante\n",
    "df1=df.dropna(axis='columns')\n",
    "df1\n",
    "#Elimina la fila de ídice 5\n",
    "df2=df1.drop([5])\n",
    "df2\n",
    "\n",
    "\n",
    "# Filtrar filas basadas en una condición\n",
    "#df = df[df['columna8'] > 10]\n",
    "\n",
    "# Guardar los datos limpios en un archivo CSV\n",
    "df.to_csv('datos_limpio.csv', index=False)\n"
   ]
  },
  {
   "cell_type": "code",
   "execution_count": null,
   "metadata": {},
   "outputs": [],
   "source": [
    "df2[\"PROCEDENCIA\"].head()"
   ]
  },
  {
   "cell_type": "code",
   "execution_count": null,
   "metadata": {},
   "outputs": [],
   "source": [
    "diagnostico = df[\"NOMBRE_DIAGNOSTICO\"].value_counts()\n",
    "diagnostico.head()"
   ]
  },
  {
   "cell_type": "code",
   "execution_count": null,
   "metadata": {},
   "outputs": [],
   "source": [
    "import seaborn as sns\n",
    "subset = diagnostico.head()\n",
    "sns.barplot(y=subset.index, x=subset.to_numpy())"
   ]
  },
  {
   "cell_type": "code",
   "execution_count": null,
   "metadata": {},
   "outputs": [],
   "source": []
  },
  {
   "cell_type": "code",
   "execution_count": null,
   "metadata": {},
   "outputs": [],
   "source": [
    "from sklearn.feature_extraction.text import TfidfVectorizer\n",
    "vectorizer = TfidfVectorizer()\n",
    "\n",
    "X = vectorizer.fit_transform(df2[\"NOMBRE_DIAGNOSTICO\"])\n",
    "vectorizer.get_feature_names_out()"
   ]
  },
  {
   "cell_type": "code",
   "execution_count": null,
   "metadata": {},
   "outputs": [],
   "source": [
    "from sklearn.preprocessing import LabelEncoder\n",
    "\n",
    "encoder = LabelEncoder()\n",
    "y = encoder.fit_transform(df2[\"PROCEDENCIA\"])\n",
    "\n",
    "list(encoder.classes_)"
   ]
  },
  {
   "cell_type": "markdown",
   "metadata": {
    "id": "NhvFSuEFJy5H"
   },
   "source": [
    "# kNN"
   ]
  },
  {
   "cell_type": "code",
   "execution_count": null,
   "metadata": {},
   "outputs": [],
   "source": [
    "from sklearn.model_selection import train_test_split\n",
    "from sklearn.neighbors import KNeighborsClassifier\n",
    "from sklearn.metrics import accuracy_score, precision_score"
   ]
  },
  {
   "cell_type": "code",
   "execution_count": null,
   "metadata": {},
   "outputs": [],
   "source": [
    "# Dividimos los datos en los conjuntos de entrenamiento y prueba\n",
    "X_train, X_test, y_train, y_test = train_test_split(X, y, random_state=0)\n",
    "\n",
    "# Entrenar el modelo con el mejor valor de k\n",
    "knn = KNeighborsClassifier(n_neighbors=1)\n",
    "knn.fit(X_train, y_train)"
   ]
  },
  {
   "cell_type": "code",
   "execution_count": null,
   "metadata": {},
   "outputs": [],
   "source": [
    "#Hacemos una predicción con los datos de prueba. (calcula sus vecinos más cercanos en el conjunto de entrenamiento)\n",
    "print(\"Test de predicción: {}\".format(knn.predict(X_test)))"
   ]
  },
  {
   "cell_type": "code",
   "execution_count": null,
   "metadata": {},
   "outputs": [],
   "source": [
    "#Precisión del modelo\n",
    "print(\"Test de precisción: {:.2f}\".format(knn.score(X_test, y_test)))"
   ]
  },
  {
   "cell_type": "code",
   "execution_count": null,
   "metadata": {},
   "outputs": [],
   "source": [
    "# Nueva entrada\n",
    "nuevo_diagnostico = \"DOLOR ABDOMINNAL\"\n",
    "\n",
    "# Transformamos la entrada en un vector de características\n",
    "nuevo_X = vectorizer.transform([nuevo_diagnostico])\n",
    "\n",
    "# Predección\n",
    "pred_Y = knn.predict(nuevo_X)\n",
    "\n",
    "# Decodificar la procedencia\n",
    "pred_procedencia = encoder.inverse_transform(pred_Y)\n",
    "\n",
    "print(f\"La procedencia del paciente con {nuevo_diagnostico} es {pred_procedencia}\")"
   ]
  },
  {
   "cell_type": "code",
   "execution_count": null,
   "metadata": {},
   "outputs": [],
   "source": [
    "precision= []\n",
    "test_precision = []\n",
    "#  n_neighbors desde 1 a 10 \n",
    "neighbors_settings = range(1, 11)\n",
    "\n",
    "for n_neighbors in neighbors_settings:\n",
    "    # contrucción del modelo\n",
    "    kinn = KNeighborsClassifier(n_neighbors=n_neighbors) \n",
    "    kinn.fit(X_train, y_train)\n",
    "    # Guardado de las precisiones \n",
    "    precision.append(kinn.score(X_train, y_train))\n",
    "    # Guardado general \n",
    "    test_precision.append(kinn.score(X_test, y_test))\n",
    "    \n",
    "plt.plot(neighbors_settings, precision, label=\"presición del modelo entrendado\")\n",
    "plt.plot(neighbors_settings, test_precision, label=\"precisión conjunto de prueba\")\n",
    "plt.ylabel(\"Precisión\")\n",
    "plt.xlabel(\"n_neighbors\")\n",
    "plt.legend()\n",
    "plt.show()"
   ]
  },
  {
   "cell_type": "markdown",
   "metadata": {},
   "source": [
    "# Modelos lineales\n",
    "\n",
    "$$\\hat{y} = \\hat{\\beta}_0+\\hat{\\beta}_1x_1 + \\hat{\\beta}_2x_2 + \\hat{\\beta}_3 x_3$$"
   ]
  },
  {
   "cell_type": "code",
   "execution_count": null,
   "metadata": {},
   "outputs": [],
   "source": [
    "from sklearn.linear_model import LinearRegression\n",
    "\n",
    "# Datos de entreada con tres caraterísticas \n",
    "X = np.array([[1, 1, 4], [1, 2, 3], [2, 2, 5], [2, 3, 6]])\n",
    "y = np.dot(X, np.array([4, 2, -1]))\n",
    "\n",
    "rl = LinearRegression().fit(X, y)\n",
    "\n",
    "\n",
    "print(\"lr.coef_: {}\".format(rl.coef_))\n",
    "print(\"lr.intercept_: {}\".format(rl.intercept_))\n",
    "\n",
    "#rl.predict(np.array([[3, 5, 6]]))"
   ]
  },
  {
   "cell_type": "code",
   "execution_count": null,
   "metadata": {},
   "outputs": [],
   "source": [
    "ax = plt.figure().add_subplot(projection='3d')\n",
    "\n",
    "# Prepare arrays x, y, z\n",
    "z = X[:,2]\n",
    "x = X[:,0]\n",
    "y = X[:,1]\n",
    "\n",
    "ax.plot(x, y, z, 'o',label='Datos')\n",
    "ax.legend()\n",
    "ax.set_xlabel('X')\n",
    "ax.set_ylabel('Y')\n",
    "ax.set_zlabel('Z')\n",
    "\n",
    "plt.show()"
   ]
  },
  {
   "cell_type": "markdown",
   "metadata": {},
   "source": [
    "# Modelos no lineales\n",
    "\n",
    "Regresión logística"
   ]
  },
  {
   "cell_type": "code",
   "execution_count": null,
   "metadata": {},
   "outputs": [],
   "source": [
    "from sklearn.linear_model import LogisticRegression\n",
    "from sklearn.datasets import load_breast_cancer \n",
    "cancer = load_breast_cancer()\n",
    "\n",
    "print(\"cancer.keys(): \\n{}\".format(cancer.keys()))"
   ]
  },
  {
   "cell_type": "code",
   "execution_count": null,
   "metadata": {},
   "outputs": [],
   "source": [
    "X_train, X_test, y_train, y_test = train_test_split(cancer.data, cancer.target, \n",
    "                                                    stratify=cancer.target, random_state=42)\n",
    "\n",
    "logreg = LogisticRegression().fit(X_train, y_train)\n",
    "\n",
    "print(\"Training set score: {:.3f}\".format(logreg.score(X_train, y_train)))\n",
    "print(\"Test set score: {:.3f}\".format(logreg.score(X_test, y_test)))"
   ]
  },
  {
   "cell_type": "code",
   "execution_count": null,
   "metadata": {},
   "outputs": [],
   "source": [
    "logreg.predict(X_test)"
   ]
  },
  {
   "cell_type": "code",
   "execution_count": null,
   "metadata": {},
   "outputs": [],
   "source": [
    "logreg.intercept_"
   ]
  },
  {
   "cell_type": "code",
   "execution_count": null,
   "metadata": {},
   "outputs": [],
   "source": [
    "logreg.coef_"
   ]
  },
  {
   "cell_type": "code",
   "execution_count": null,
   "metadata": {},
   "outputs": [],
   "source": [
    "plt.plot(logreg.coef_.T, 'o', label=\"C=1\")\n",
    "plt.xticks(range(cancer.data.shape[1]), cancer.feature_names, rotation=90)\n",
    "plt.hlines(0, 0, cancer.data.shape[1])\n",
    "plt.xlabel(\"Índice de Coeficientes\")\n",
    "plt.ylabel(\"Tamaño del Coeficiente\")\n",
    "plt.legend()"
   ]
  },
  {
   "cell_type": "code",
   "execution_count": null,
   "metadata": {},
   "outputs": [],
   "source": [
    "# Code source: Gael Varoquaux\n",
    "# License: BSD 3 clause\n",
    "\n",
    "from scipy.special import expit\n",
    "\n",
    "\n",
    "# Generate a toy dataset, it's just a straight line with some Gaussian noise:\n",
    "xmin, xmax = -5, 5\n",
    "n_samples = 100\n",
    "np.random.seed(0)\n",
    "X = np.random.normal(size=n_samples)\n",
    "y = (X > 0).astype(float)\n",
    "X[X > 0] *= 4\n",
    "X += 0.3 * np.random.normal(size=n_samples)\n",
    "\n",
    "X = X[:, np.newaxis]\n",
    "\n",
    "# Fit the classifier\n",
    "clf = LogisticRegression()\n",
    "clf.fit(X, y)\n",
    "\n",
    "# and plot the result\n",
    "plt.scatter(X.ravel(), y, label=\"datos\", color=\"black\", zorder=20)\n",
    "X_test = np.linspace(-5, 10, 300)\n",
    "loss = expit(X_test * clf.coef_ + clf.intercept_).ravel()\n",
    "plt.plot(X_test, loss, label=\"Logistic Regression Model\", color=\"red\")\n",
    "\n",
    "\n",
    "\n",
    "plt.ylabel(\"y\")\n",
    "plt.xlabel(\"X\")\n",
    "plt.legend()\n",
    "plt.show()"
   ]
  },
  {
   "cell_type": "markdown",
   "metadata": {},
   "source": [
    "# Árboles de decisión"
   ]
  },
  {
   "cell_type": "code",
   "execution_count": null,
   "metadata": {},
   "outputs": [],
   "source": [
    "from sklearn.tree import DecisionTreeClassifier\n",
    "\n",
    "X_train, X_test, y_train, y_test = train_test_split(cancer.data, cancer.target, \n",
    "                                                    stratify=cancer.target, random_state=42)\n",
    "tree = DecisionTreeClassifier(max_depth=4,random_state=0)\n",
    "tree.fit(X_train, y_train)\n",
    "\n",
    "print(\"Accuracy on training set: {:.3f}\".format(tree.score(X_train, y_train))) \n",
    "print(\"Accuracy on test set: {:.3f}\".format(tree.score(X_test, y_test)))"
   ]
  },
  {
   "cell_type": "code",
   "execution_count": null,
   "metadata": {},
   "outputs": [],
   "source": [
    "from sklearn.tree import export_graphviz\n",
    "\n",
    "export_graphviz(tree, out_file=\"tree.dot\", class_names=[\"malignant\", \"benign\"],\n",
    "                feature_names=cancer.feature_names, impurity=False, filled=True)"
   ]
  },
  {
   "cell_type": "code",
   "execution_count": null,
   "metadata": {},
   "outputs": [],
   "source": [
    "import graphviz\n",
    "\n",
    "with open(\"tree.dot\") as f:\n",
    "    dot_graph = f.read()\n",
    "graphviz.Source(dot_graph)"
   ]
  },
  {
   "cell_type": "code",
   "execution_count": null,
   "metadata": {},
   "outputs": [],
   "source": []
  }
 ],
 "metadata": {
  "colab": {
   "provenance": []
  },
  "kernelspec": {
   "display_name": "Python 3 (ipykernel)",
   "language": "python",
   "name": "python3"
  },
  "language_info": {
   "codemirror_mode": {
    "name": "ipython",
    "version": 3
   },
   "file_extension": ".py",
   "mimetype": "text/x-python",
   "name": "python",
   "nbconvert_exporter": "python",
   "pygments_lexer": "ipython3",
   "version": "3.12.4"
  }
 },
 "nbformat": 4,
 "nbformat_minor": 1
}
